{
  "nbformat": 4,
  "nbformat_minor": 0,
  "metadata": {
    "colab": {
      "provenance": [],
      "include_colab_link": true
    },
    "kernelspec": {
      "name": "python3",
      "display_name": "Python 3"
    },
    "language_info": {
      "name": "python"
    }
  },
  "cells": [
    {
      "cell_type": "markdown",
      "metadata": {
        "id": "view-in-github",
        "colab_type": "text"
      },
      "source": [
        "<a href=\"https://colab.research.google.com/github/yolo4123/Mini/blob/main/link.ipynb\" target=\"_parent\"><img src=\"https://colab.research.google.com/assets/colab-badge.svg\" alt=\"Open In Colab\"/></a>"
      ]
    },
    {
      "cell_type": "code",
      "execution_count": null,
      "metadata": {
        "id": "6wwaT85smyw_"
      },
      "outputs": [],
      "source": [
        "https://colab.research.google.com/drive/1I9cSqDWL6n6f0eI2VAmEGELsoHF2lVcY?usp=sharing"
      ]
    },
    {
      "cell_type": "code",
      "source": [
        "https://www.kaggle.com/datasets/akshatgupta7/crop-yield-in-indian-states-\n",
        "dataset(commodities)"
      ],
      "metadata": {
        "id": "PRl6qkSNnUg4"
      },
      "execution_count": null,
      "outputs": []
    },
    {
      "cell_type": "code",
      "source": [],
      "metadata": {
        "id": "9I8qIdGMnVK2"
      },
      "execution_count": null,
      "outputs": []
    }
  ]
}